{
 "cells": [
  {
   "cell_type": "markdown",
   "id": "9dfa5560-0645-4e45-915c-2891b17667c6",
   "metadata": {},
   "source": [
    "9.3.1 Writing to a Text File: Introducing the with Statement"
   ]
  },
  {
   "cell_type": "code",
   "execution_count": 1,
   "id": "fb9f6f0c-fd1d-4fe2-a88b-543609d52fc3",
   "metadata": {},
   "outputs": [],
   "source": [
    "# Create an accounts.txt file and write five client records to the file:\n",
    "\n",
    "with open('accounts.txt', mode='w') as accounts:\n",
    "    accounts.write('100 Jones 24.98\\n')\n",
    "    accounts.write('200 Doe 345.67\\n')\n",
    "    accounts.write('300 White 0.00\\n')\n",
    "    accounts.write('400 Stone -42.16\\n')\n",
    "    accounts.write('500 Rich 224.62\\n')"
   ]
  },
  {
   "cell_type": "markdown",
   "id": "4c3b7d7c-da9a-46ef-b10d-c3a4cf07baa4",
   "metadata": {},
   "source": [
    "Self Check 9.3.1"
   ]
  },
  {
   "cell_type": "code",
   "execution_count": 2,
   "id": "89620194-ab36-44e3-88c2-860eb8555e45",
   "metadata": {},
   "outputs": [],
   "source": [
    "# 3) Create a grades.txt file and write to it hte following three records consisting of student IDS, last names, \n",
    "# and letter grades:\n",
    "#\n",
    "#      1 Red A\n",
    "#      2 Green B\n",
    "#      3 White A\n",
    "\n",
    "with open('grades.txt', mode='w') as grades:\n",
    "    grades.write('1 Red A\\n')\n",
    "    grades.write('2 Green B\\n')\n",
    "    grades.write('3 White A\\n')        \n",
    "          "
   ]
  },
  {
   "cell_type": "markdown",
   "id": "85882209-0452-4ee2-aa63-b7e56d182fba",
   "metadata": {},
   "source": [
    "9.3.2 - Reading Data from a Text File"
   ]
  },
  {
   "cell_type": "code",
   "execution_count": 3,
   "id": "7ac3517c-03ed-4a6f-98f8-35ca58552c9a",
   "metadata": {},
   "outputs": [
    {
     "name": "stdout",
     "output_type": "stream",
     "text": [
      "Account   Name         Balance\n",
      "100       Jones          24.98\n",
      "200       Doe           345.67\n",
      "300       White           0.00\n",
      "400       Stone         -42.16\n",
      "500       Rich          224.62\n"
     ]
    }
   ],
   "source": [
    "# Read records from the file account.txt and display the contents of each record in columns with the \n",
    "# Account and Name columns left aligned and the Balance column right aligned, so the decimal points \n",
    "# align vertically:\n",
    "\n",
    "with open('accounts.txt', mode='r') as accounts:\n",
    "    print(f'{\"Account\":<10}{\"Name\":<10}{\"Balance\":>10}')\n",
    "    for record in accounts:\n",
    "        account, name, balance = record.split()\n",
    "        print(f'{account:<10}{name:<10}{balance:>10}')"
   ]
  },
  {
   "cell_type": "markdown",
   "id": "1904b7c4-e08d-4ca1-adb6-31dbacd7566d",
   "metadata": {},
   "source": [
    "9.3.2 Self Check"
   ]
  },
  {
   "cell_type": "code",
   "execution_count": 4,
   "id": "ba79cbda-0bef-4650-be82-95fc63492718",
   "metadata": {},
   "outputs": [
    {
     "name": "stdout",
     "output_type": "stream",
     "text": [
      "ID  Name   Grade\n",
      "1   Red    A\n",
      "2   Green  B\n",
      "3   White  A\n"
     ]
    }
   ],
   "source": [
    "# 3) Read the file grades.txt that you created in the previous section's Self Check and display it in columns \n",
    "# with the column heads 'ID', 'Name', and 'Grade'.\n",
    "\n",
    "with open ('grades.txt', mode = 'r') as grades:\n",
    "    print(f'{\"ID\":<4}{\"Name\":<7}{\"Grade\"}')\n",
    "    for record in grades:\n",
    "        student_id, name, grade = record.split()\n",
    "        print(f'{student_id:<4}{name:<7}{grade}')"
   ]
  },
  {
   "cell_type": "markdown",
   "id": "657c50e1-c5ac-4cb7-bc69-1b8dc8c4498b",
   "metadata": {},
   "source": [
    "9.4 Updating Text Files"
   ]
  },
  {
   "cell_type": "code",
   "execution_count": 5,
   "id": "3eb9bc16-0267-43f8-9016-0899892d01e7",
   "metadata": {},
   "outputs": [],
   "source": [
    "# use a with statement ot update the accounts.txt file to change account 300's name from 'White'\n",
    "# to 'Williams'\n",
    "\n",
    "accounts = open('accounts.txt', 'r')\n",
    "\n",
    "temp_file = open('temp_file.txt', 'w')\n",
    "\n",
    "with accounts, temp_file:\n",
    "    for record in accounts:\n",
    "        account, name, balance = record.split()\n",
    "        if account != '300':\n",
    "            temp_file.write(record)\n",
    "        else:\n",
    "            new_record = ' '.join([account, 'Williams', balance])\n",
    "            temp_file.write(new_record + '\\n')"
   ]
  },
  {
   "cell_type": "code",
   "execution_count": 6,
   "id": "df6dfb08-dfc4-4aae-adc4-4aa5da7493b1",
   "metadata": {},
   "outputs": [],
   "source": [
    "# delete the old accounts.txt file, then rename temp_file.txt as account.txt:\n",
    "\n",
    "import os\n",
    "\n",
    "os.remove('accounts.txt')\n",
    "\n",
    "os.rename('temp_file.txt', 'accounts.txt')"
   ]
  },
  {
   "cell_type": "markdown",
   "id": "0e670b07-c2fe-45a0-abff-1155b5ce7109",
   "metadata": {},
   "source": [
    "9.4 Self Check"
   ]
  },
  {
   "cell_type": "code",
   "execution_count": 7,
   "id": "65285d70-fcd4-446d-bfca-eb9c9a3b6a57",
   "metadata": {},
   "outputs": [],
   "source": [
    "# 3) In the accounts.txt file, update the last name 'Doe' to 'Smith'.\n",
    "\n",
    "accounts = open('accounts.txt', 'r')\n",
    "\n",
    "temp_file = open('temp_file.txt', 'w')\n",
    "\n",
    "with accounts, temp_file:\n",
    "    for record in accounts:\n",
    "        account, name, balance = record.split()\n",
    "        if name != 'Doe':\n",
    "            temp_file.write(record)\n",
    "        else:\n",
    "            new_record = ' '.join([account, 'Smith', balance])\n",
    "            temp_file.write(new_record + '\\n')\n",
    "            \n",
    "import os\n",
    "\n",
    "os.remove('accounts.txt')\n",
    "\n",
    "os.rename('temp_file.txt', 'accounts.txt')"
   ]
  },
  {
   "cell_type": "markdown",
   "id": "b300655c-33d3-4992-a3b4-9d27402b3a47",
   "metadata": {},
   "source": [
    "9.5 Serialization with JSON"
   ]
  },
  {
   "cell_type": "code",
   "execution_count": 8,
   "id": "9bb7d258-c04d-474a-a148-776d0280aeeb",
   "metadata": {},
   "outputs": [],
   "source": [
    "# Create a dictionary \n",
    "\n",
    "accounts_dict = {'accounts': [\n",
    "    {'account': 100, 'name': 'Jones', 'balance': 24.98},\n",
    "    {'account': 200, 'name': 'Doe', 'balance': 345.67}]}"
   ]
  },
  {
   "cell_type": "code",
   "execution_count": 9,
   "id": "1232bdba-959d-4bf8-ada5-186d54aed834",
   "metadata": {},
   "outputs": [],
   "source": [
    "# write the object in JSON format to a file (serializing):\n",
    "\n",
    "import json\n",
    "\n",
    "with open('accounts.json', 'w') as accounts:\n",
    "    json.dump(accounts_dict, accounts)"
   ]
  },
  {
   "cell_type": "code",
   "execution_count": 10,
   "id": "efddac42-6f1a-477a-b291-43ea79c765f3",
   "metadata": {},
   "outputs": [],
   "source": [
    "# Converting the JSON into a Python object (deserializing):\n",
    "\n",
    "with open('accounts.json', 'r') as accounts:\n",
    "    accounts_json = json.load(accounts)"
   ]
  },
  {
   "cell_type": "code",
   "execution_count": 11,
   "id": "5472f7ec-bdb5-49a7-aa8a-15187c3fe8a4",
   "metadata": {},
   "outputs": [
    {
     "data": {
      "text/plain": [
       "{'accounts': [{'account': 100, 'name': 'Jones', 'balance': 24.98},\n",
       "  {'account': 200, 'name': 'Doe', 'balance': 345.67}]}"
      ]
     },
     "execution_count": 11,
     "metadata": {},
     "output_type": "execute_result"
    }
   ],
   "source": [
    "#Display the dictionary\n",
    "\n",
    "accounts_json"
   ]
  },
  {
   "cell_type": "code",
   "execution_count": 12,
   "id": "590803d9-0f6b-49fd-9e4b-5bd9aa378075",
   "metadata": {},
   "outputs": [
    {
     "data": {
      "text/plain": [
       "[{'account': 100, 'name': 'Jones', 'balance': 24.98},\n",
       " {'account': 200, 'name': 'Doe', 'balance': 345.67}]"
      ]
     },
     "execution_count": 12,
     "metadata": {},
     "output_type": "execute_result"
    }
   ],
   "source": [
    "# Get the list of dictionaries associated with the 'accounts' key\n",
    "\n",
    "accounts_json['accounts']"
   ]
  },
  {
   "cell_type": "code",
   "execution_count": 13,
   "id": "b2580539-d104-46e8-ab8f-946e96e6eb58",
   "metadata": {},
   "outputs": [
    {
     "data": {
      "text/plain": [
       "{'account': 100, 'name': 'Jones', 'balance': 24.98}"
      ]
     },
     "execution_count": 13,
     "metadata": {},
     "output_type": "execute_result"
    }
   ],
   "source": [
    "# Get the individual account dictionaries\n",
    "\n",
    "accounts_json['accounts'][0]"
   ]
  },
  {
   "cell_type": "code",
   "execution_count": 14,
   "id": "ad2472f8-eb39-49c6-9a6d-c78cbae52c9d",
   "metadata": {},
   "outputs": [
    {
     "data": {
      "text/plain": [
       "{'account': 200, 'name': 'Doe', 'balance': 345.67}"
      ]
     },
     "execution_count": 14,
     "metadata": {},
     "output_type": "execute_result"
    }
   ],
   "source": [
    "accounts_json['accounts'][1]"
   ]
  },
  {
   "cell_type": "code",
   "execution_count": 15,
   "id": "0d66e9b7-3348-4475-898b-9c6533a685f7",
   "metadata": {},
   "outputs": [
    {
     "name": "stdout",
     "output_type": "stream",
     "text": [
      "{\n",
      "    \"accounts\": [\n",
      "        {\n",
      "            \"account\": 100,\n",
      "            \"name\": \"Jones\",\n",
      "            \"balance\": 24.98\n",
      "        },\n",
      "        {\n",
      "            \"account\": 200,\n",
      "            \"name\": \"Doe\",\n",
      "            \"balance\": 345.67\n",
      "        }\n",
      "    ]\n",
      "}\n"
     ]
    }
   ],
   "source": [
    "# Using dump function to read the JSON from the file and display it in a nicely indented format\n",
    "# Also called 'pretty printing' the JSON\n",
    "\n",
    "with open('accounts.json', 'r') as accounts:\n",
    "    print(json.dumps(json.load(accounts), indent=4))"
   ]
  },
  {
   "cell_type": "markdown",
   "id": "87dcde20-7960-462a-9c8e-3781439c3d93",
   "metadata": {},
   "source": [
    "9.5 Self Check"
   ]
  },
  {
   "cell_type": "code",
   "execution_count": 16,
   "id": "aae63b83-2de5-4d12-8bd1-be899bcadbc3",
   "metadata": {},
   "outputs": [
    {
     "name": "stdout",
     "output_type": "stream",
     "text": [
      "{\n",
      "    \"gradebook\": [\n",
      "        {\n",
      "            \"student_id\": 1,\n",
      "            \"name\": \"Red\",\n",
      "            \"grade\": \"A\"\n",
      "        },\n",
      "        {\n",
      "            \"student_id\": 2,\n",
      "            \"name\": \"Green\",\n",
      "            \"grade\": \"B\"\n",
      "        },\n",
      "        {\n",
      "            \"student_id\": 3,\n",
      "            \"name\": \"White\",\n",
      "            \"grade\": \"A\"\n",
      "        }\n",
      "    ]\n",
      "}\n"
     ]
    }
   ],
   "source": [
    "# 3) Create a JSON file named grades.json and write into it the following dictionary:\n",
    "#\n",
    "#     grades_dict = {'gradebook':\n",
    "#         [{'student_id': 1, 'name': 'Red', 'grade': 'A'},\n",
    "#          {'student_id': 2, 'name': 'Green', 'grade': 'B'},\n",
    "#          {'student_id': 3, 'name': 'White', 'grade': 'A'}]}\n",
    "\n",
    "import json\n",
    "\n",
    "grades_dict = {'gradebook':\n",
    "               [{'student_id': 1, 'name': 'Red', 'grade': 'A'},\n",
    "                {'student_id': 2, 'name': 'Green', 'grade': 'B'},\n",
    "                {'student_id': 3, 'name': 'White', 'grade': 'A'}]}\n",
    "\n",
    "with open('grades.json', 'w') as grades:\n",
    "    json.dump(grades_dict, grades)\n",
    "    \n",
    "with open('grades.json', 'r') as grades:\n",
    "    print(json.dumps(json.load(grades), indent=4))"
   ]
  },
  {
   "cell_type": "markdown",
   "id": "39884255-debd-4a07-8d8e-66a4966745f2",
   "metadata": {},
   "source": [
    "9.8.2 try Statements"
   ]
  },
  {
   "cell_type": "code",
   "execution_count": 17,
   "id": "c1eafd0e-e117-4f1d-b11c-563f21a470d2",
   "metadata": {},
   "outputs": [
    {
     "name": "stdin",
     "output_type": "stream",
     "text": [
      "Enter numerator:  30\n",
      "Enter denominator:  40\n"
     ]
    },
    {
     "name": "stdout",
     "output_type": "stream",
     "text": [
      "30.000 / 40.000 = 0.750\n"
     ]
    }
   ],
   "source": [
    "# Use exception handling to catch and handle any ZeroDivisionErrors and ValueErrors that arise\n",
    "\n",
    "#dividebyzero.py\n",
    "\"\"\"Simple exception handling example\"\"\"\n",
    "\n",
    "while True:\n",
    "    # attempt to convert and divide values\n",
    "    try:\n",
    "        number1 = int(input('Enter numerator: '))\n",
    "        number2 = int(input('Enter denominator: '))\n",
    "        result = number1 / number2\n",
    "    except ValueError: # tried to convert non-numeric value to int\n",
    "        print('You must enter two integers\\n')\n",
    "    except ZeroDivisionError: # denominator was 0\n",
    "        print('Attempted to divide by zero\\n')\n",
    "    else: # executes only if no exceptions occur\n",
    "        print(f'{number1:.3f} / {number2:.3f} = {result:.3f}')\n",
    "        break # terminate the loop"
   ]
  },
  {
   "cell_type": "markdown",
   "id": "12b750e0-c6ac-45e5-8b9a-267f5937b424",
   "metadata": {},
   "source": [
    "9.8.2 Self Check"
   ]
  },
  {
   "cell_type": "code",
   "execution_count": 26,
   "id": "dfaa195c-69bb-4432-8f47-6ffa60e265be",
   "metadata": {},
   "outputs": [
    {
     "name": "stdout",
     "output_type": "stream",
     "text": [
      "int(10.7) is 10\n"
     ]
    }
   ],
   "source": [
    "# 3) Before executing the IPython session, determine what the following function displays if you call\n",
    "# it with the value 10.7 then the value 'Python'?\n",
    "\n",
    "def try_it(value):\n",
    "    try:\n",
    "        x = int(value)\n",
    "    except ValueError:\n",
    "        print(f'{value} could not be converted to an integer')\n",
    "    else:\n",
    "        print(f'int({value}) is {x}')\n",
    "        \n",
    "try_it(10.7)"
   ]
  },
  {
   "cell_type": "code",
   "execution_count": 27,
   "id": "dd1d7753-294e-40e3-89dc-394b095f8d89",
   "metadata": {},
   "outputs": [
    {
     "name": "stdout",
     "output_type": "stream",
     "text": [
      "Python could not be converted to an integer\n"
     ]
    }
   ],
   "source": [
    "try_it('Python')"
   ]
  },
  {
   "cell_type": "markdown",
   "id": "3338ea37-f4ff-4db8-ae3b-e275ff3a5d88",
   "metadata": {},
   "source": [
    "9.9 finally Clause"
   ]
  },
  {
   "cell_type": "code",
   "execution_count": 29,
   "id": "6c831bf9-69c1-4042-8f4b-1a584c0fa409",
   "metadata": {},
   "outputs": [
    {
     "name": "stdout",
     "output_type": "stream",
     "text": [
      "try suite with no exceptions raised\n",
      "else executes because no exceptions in the try suite\n",
      "finally always executes\n"
     ]
    }
   ],
   "source": [
    "# Try statment in which no exceptions occur in the try suite\n",
    "\n",
    "try:\n",
    "    print('try suite with no exceptions raised')\n",
    "except:\n",
    "    print('this will not executes')\n",
    "else:\n",
    "    print('else executes because no exceptions in the try suite')\n",
    "finally:\n",
    "    print('finally always executes')"
   ]
  },
  {
   "cell_type": "code",
   "execution_count": 30,
   "id": "e031f80d-bb69-46b1-b301-8093c57547e6",
   "metadata": {},
   "outputs": [
    {
     "name": "stdout",
     "output_type": "stream",
     "text": [
      "try suite that raises an exception\n",
      "a ValueError occurred\n",
      "finally always executes\n"
     ]
    }
   ],
   "source": [
    "# Try statement in which an exception occurs in the try suite\n",
    "\n",
    "try:\n",
    "    print('try suite that raises an exception')\n",
    "    int('hello')\n",
    "    print('this will not execute')\n",
    "except ValueError:\n",
    "    print('a ValueError occurred')\n",
    "else:\n",
    "    print('else will not execute because an exception occurred')\n",
    "finally:\n",
    "    print('finally always executes')\n"
   ]
  },
  {
   "cell_type": "code",
   "execution_count": 34,
   "id": "ddef8e7e-a7bb-4314-88d4-2343966a10b3",
   "metadata": {},
   "outputs": [
    {
     "ename": "FileNotFoundError",
     "evalue": "[Errno 2] No such file or directory: 'gradez.txt'",
     "output_type": "error",
     "traceback": [
      "\u001b[1;31m---------------------------------------------------------------------------\u001b[0m",
      "\u001b[1;31mFileNotFoundError\u001b[0m                         Traceback (most recent call last)",
      "Input \u001b[1;32mIn [34]\u001b[0m, in \u001b[0;36m<cell line: 3>\u001b[1;34m()\u001b[0m\n\u001b[0;32m      1\u001b[0m \u001b[38;5;66;03m# Force a FileNotFoundError\u001b[39;00m\n\u001b[1;32m----> 3\u001b[0m \u001b[38;5;28;43mopen\u001b[39;49m\u001b[43m(\u001b[49m\u001b[38;5;124;43m'\u001b[39;49m\u001b[38;5;124;43mgradez.txt\u001b[39;49m\u001b[38;5;124;43m'\u001b[39;49m\u001b[43m,\u001b[49m\u001b[43m \u001b[49m\u001b[38;5;124;43m'\u001b[39;49m\u001b[38;5;124;43mr\u001b[39;49m\u001b[38;5;124;43m'\u001b[39;49m\u001b[43m)\u001b[49m\n",
      "\u001b[1;31mFileNotFoundError\u001b[0m: [Errno 2] No such file or directory: 'gradez.txt'"
     ]
    }
   ],
   "source": [
    "# Force a FileNotFoundError\n",
    "\n",
    "open('gradez.txt', 'r')"
   ]
  },
  {
   "cell_type": "code",
   "execution_count": 37,
   "id": "286b5bc1-3d78-48dd-a1cf-4650ac47ae73",
   "metadata": {},
   "outputs": [
    {
     "ename": "SyntaxError",
     "evalue": "invalid syntax (1652240998.py, line 9)",
     "output_type": "error",
     "traceback": [
      "\u001b[1;36m  Input \u001b[1;32mIn [37]\u001b[1;36m\u001b[0m\n\u001b[1;33m    except FileNotFoundError:\u001b[0m\n\u001b[1;37m    ^\u001b[0m\n\u001b[1;31mSyntaxError\u001b[0m\u001b[1;31m:\u001b[0m invalid syntax\n"
     ]
    }
   ],
   "source": [
    "# Catching exceptions like FileNotFoundError\n",
    "\n",
    "try:\n",
    "    with open('gradez.txt', 'r') as accounts:\n",
    "        print(f'{\"ID\":<3}{\"Name\":<7}{\"Grade\"}')\n",
    "        for record in accounts:\n",
    "            student_id, name, grade = record.split()\n",
    "            print(f'{student_id:<3}{name:<7}{grade}'\n",
    "except FileNotFoundError:\n",
    "    print('The file name you specified does not exist')"
   ]
  },
  {
   "cell_type": "markdown",
   "id": "5b993b8d-b498-4f54-a3cf-54f4b817ff22",
   "metadata": {},
   "source": [
    "9.9 Self Check"
   ]
  },
  {
   "cell_type": "code",
   "execution_count": 38,
   "id": "8d53ee11-7ab0-4bbb-8b7e-f1d2f8326d46",
   "metadata": {},
   "outputs": [
    {
     "name": "stdout",
     "output_type": "stream",
     "text": [
      "int(10.7) is 10\n",
      "finally executed\n"
     ]
    }
   ],
   "source": [
    "# 3) Before executing the IPython session, determine what the following function displays if you call it with the \n",
    "# the value 10.7, then the value 'Python'?:\n",
    "\n",
    "def try_it(value):\n",
    "    try:\n",
    "        x = int(value)\n",
    "    except ValueError:\n",
    "        print(f'{value} could not be converted to an integer')\n",
    "    else:\n",
    "        print(f'int({value}) is {x}')\n",
    "    finally:\n",
    "        print('finally executed')\n",
    "\n",
    "try_it(10.7)"
   ]
  },
  {
   "cell_type": "code",
   "execution_count": 39,
   "id": "6d497bef-54d9-47b6-bde3-ab8659dfe8a9",
   "metadata": {},
   "outputs": [
    {
     "name": "stdout",
     "output_type": "stream",
     "text": [
      "Python could not be converted to an integer\n",
      "finally executed\n"
     ]
    }
   ],
   "source": [
    "try_it('Python')"
   ]
  },
  {
   "cell_type": "markdown",
   "id": "46d347ae-286d-426d-82d7-a2c602ce8cc3",
   "metadata": {},
   "source": [
    "9.12 Intro to Data Science: Working with CSV Files"
   ]
  },
  {
   "cell_type": "code",
   "execution_count": 42,
   "id": "73a7609f-f83c-4cd4-9813-2e2f913cc62e",
   "metadata": {},
   "outputs": [],
   "source": [
    "# Create an accounts.csv file using CSV format\n",
    "\n",
    "import csv\n",
    "\n",
    "with open('accounts.csv', mode='w', newline='') as accounts:\n",
    "    writer = csv.writer(accounts)\n",
    "    writer.writerow([100, 'Jones', 24.98])\n",
    "    writer.writerow([200, 'Doe', 345.67])\n",
    "    writer.writerow([300, 'White', 0.00])\n",
    "    writer.writerow([400, 'Stone', 42.16])\n",
    "    writer.writerow([500, 'Rich', 224.62])\n",
    "    "
   ]
  },
  {
   "cell_type": "code",
   "execution_count": 43,
   "id": "ea7aa726-391a-485b-8851-eca01a45dcad",
   "metadata": {},
   "outputs": [
    {
     "name": "stdout",
     "output_type": "stream",
     "text": [
      "Account   Name         Balance\n",
      "100       Jones          24.98\n",
      "200       Doe           345.67\n",
      "300       White            0.0\n",
      "400       Stone          42.16\n",
      "500       Rich          224.62\n"
     ]
    }
   ],
   "source": [
    "# Reading from a CSV file\n",
    "\n",
    "with open('accounts.csv', 'r', newline='') as accounts:\n",
    "    print(f'{\"Account\":<10}{\"Name\":<10}{\"Balance\":>10}')\n",
    "    reader = csv.reader(accounts)\n",
    "    for record in reader:\n",
    "        account, name, balance = record\n",
    "        print(f'{account:<10}{name:<10}{balance:>10}')"
   ]
  },
  {
   "cell_type": "code",
   "execution_count": 44,
   "id": "14f83147-9651-4ea0-ab7b-070341902bbf",
   "metadata": {},
   "outputs": [
    {
     "data": {
      "text/html": [
       "<div>\n",
       "<style scoped>\n",
       "    .dataframe tbody tr th:only-of-type {\n",
       "        vertical-align: middle;\n",
       "    }\n",
       "\n",
       "    .dataframe tbody tr th {\n",
       "        vertical-align: top;\n",
       "    }\n",
       "\n",
       "    .dataframe thead th {\n",
       "        text-align: right;\n",
       "    }\n",
       "</style>\n",
       "<table border=\"1\" class=\"dataframe\">\n",
       "  <thead>\n",
       "    <tr style=\"text-align: right;\">\n",
       "      <th></th>\n",
       "      <th>account</th>\n",
       "      <th>name</th>\n",
       "      <th>balance</th>\n",
       "    </tr>\n",
       "  </thead>\n",
       "  <tbody>\n",
       "    <tr>\n",
       "      <th>0</th>\n",
       "      <td>100</td>\n",
       "      <td>Jones</td>\n",
       "      <td>24.98</td>\n",
       "    </tr>\n",
       "    <tr>\n",
       "      <th>1</th>\n",
       "      <td>200</td>\n",
       "      <td>Doe</td>\n",
       "      <td>345.67</td>\n",
       "    </tr>\n",
       "    <tr>\n",
       "      <th>2</th>\n",
       "      <td>300</td>\n",
       "      <td>White</td>\n",
       "      <td>0.00</td>\n",
       "    </tr>\n",
       "    <tr>\n",
       "      <th>3</th>\n",
       "      <td>400</td>\n",
       "      <td>Stone</td>\n",
       "      <td>42.16</td>\n",
       "    </tr>\n",
       "    <tr>\n",
       "      <th>4</th>\n",
       "      <td>500</td>\n",
       "      <td>Rich</td>\n",
       "      <td>224.62</td>\n",
       "    </tr>\n",
       "  </tbody>\n",
       "</table>\n",
       "</div>"
      ],
      "text/plain": [
       "   account   name  balance\n",
       "0      100  Jones    24.98\n",
       "1      200    Doe   345.67\n",
       "2      300  White     0.00\n",
       "3      400  Stone    42.16\n",
       "4      500   Rich   224.62"
      ]
     },
     "execution_count": 44,
     "metadata": {},
     "output_type": "execute_result"
    }
   ],
   "source": [
    "# Load a CSV dataset into a DataFrame with the pandas function read_csv\n",
    "\n",
    "import pandas as pd\n",
    "\n",
    "df = pd.read_csv('accounts.csv',\n",
    "                 names=['account', 'name', 'balance'])\n",
    "\n",
    "df"
   ]
  },
  {
   "cell_type": "code",
   "execution_count": 45,
   "id": "44dba939-677a-4303-9994-d46db81a0f17",
   "metadata": {},
   "outputs": [],
   "source": [
    "# Save a DataFrame to a file using CSV format\n",
    "\n",
    "df.to_csv('accounts_from_dataframe.csv', index=False)"
   ]
  },
  {
   "cell_type": "markdown",
   "id": "ace7d034-242e-4e55-a5dd-b5e474fb47bf",
   "metadata": {},
   "source": [
    "9.12.3 Reading the Titanic Disaster Dataset"
   ]
  },
  {
   "cell_type": "code",
   "execution_count": 46,
   "id": "7b5ae1b5-2cfb-4671-9e01-60161e88e55e",
   "metadata": {},
   "outputs": [],
   "source": [
    "# loading data into a DataFrame with read_csv directly from GitHub\n",
    "\n",
    "import pandas as pd\n",
    "\n",
    "titanic = pd.read_csv('https://vincentarelbundock.github.io/' + 'Rdatasets/csv/carData/TitanicSurvival.csv')"
   ]
  },
  {
   "cell_type": "code",
   "execution_count": 47,
   "id": "a7ebe2a0-123c-4658-94d0-e4f62f181e9e",
   "metadata": {},
   "outputs": [
    {
     "data": {
      "text/html": [
       "<div>\n",
       "<style scoped>\n",
       "    .dataframe tbody tr th:only-of-type {\n",
       "        vertical-align: middle;\n",
       "    }\n",
       "\n",
       "    .dataframe tbody tr th {\n",
       "        vertical-align: top;\n",
       "    }\n",
       "\n",
       "    .dataframe thead th {\n",
       "        text-align: right;\n",
       "    }\n",
       "</style>\n",
       "<table border=\"1\" class=\"dataframe\">\n",
       "  <thead>\n",
       "    <tr style=\"text-align: right;\">\n",
       "      <th></th>\n",
       "      <th>Unnamed: 0</th>\n",
       "      <th>survived</th>\n",
       "      <th>sex</th>\n",
       "      <th>age</th>\n",
       "      <th>passengerClass</th>\n",
       "    </tr>\n",
       "  </thead>\n",
       "  <tbody>\n",
       "    <tr>\n",
       "      <th>0</th>\n",
       "      <td>Allen, Miss. Elisabeth Walton</td>\n",
       "      <td>yes</td>\n",
       "      <td>female</td>\n",
       "      <td>29.00</td>\n",
       "      <td>1st</td>\n",
       "    </tr>\n",
       "    <tr>\n",
       "      <th>1</th>\n",
       "      <td>Allison, Master. Hudson Trevor</td>\n",
       "      <td>yes</td>\n",
       "      <td>male</td>\n",
       "      <td>0.92</td>\n",
       "      <td>1st</td>\n",
       "    </tr>\n",
       "    <tr>\n",
       "      <th>2</th>\n",
       "      <td>Allison, Miss. Helen Loraine</td>\n",
       "      <td>no</td>\n",
       "      <td>female</td>\n",
       "      <td>2.00</td>\n",
       "      <td>1st</td>\n",
       "    </tr>\n",
       "    <tr>\n",
       "      <th>3</th>\n",
       "      <td>Allison, Mr. Hudson Joshua Crei</td>\n",
       "      <td>no</td>\n",
       "      <td>male</td>\n",
       "      <td>30.00</td>\n",
       "      <td>1st</td>\n",
       "    </tr>\n",
       "    <tr>\n",
       "      <th>4</th>\n",
       "      <td>Allison, Mrs. Hudson J C (Bessi</td>\n",
       "      <td>no</td>\n",
       "      <td>female</td>\n",
       "      <td>25.00</td>\n",
       "      <td>1st</td>\n",
       "    </tr>\n",
       "  </tbody>\n",
       "</table>\n",
       "</div>"
      ],
      "text/plain": [
       "                        Unnamed: 0 survived     sex    age passengerClass\n",
       "0    Allen, Miss. Elisabeth Walton      yes  female  29.00            1st\n",
       "1   Allison, Master. Hudson Trevor      yes    male   0.92            1st\n",
       "2     Allison, Miss. Helen Loraine       no  female   2.00            1st\n",
       "3  Allison, Mr. Hudson Joshua Crei       no    male  30.00            1st\n",
       "4  Allison, Mrs. Hudson J C (Bessi       no  female  25.00            1st"
      ]
     },
     "execution_count": 47,
     "metadata": {},
     "output_type": "execute_result"
    }
   ],
   "source": [
    "# View the first five and last five rows with DataFrame methods head and tail\n",
    "\n",
    "pd.set_option('display.precision', 2) #format for floating-point values\n",
    "\n",
    "titanic.head()"
   ]
  },
  {
   "cell_type": "code",
   "execution_count": 48,
   "id": "54c847f8-4b4f-42b0-a464-17698da5fc52",
   "metadata": {},
   "outputs": [
    {
     "data": {
      "text/html": [
       "<div>\n",
       "<style scoped>\n",
       "    .dataframe tbody tr th:only-of-type {\n",
       "        vertical-align: middle;\n",
       "    }\n",
       "\n",
       "    .dataframe tbody tr th {\n",
       "        vertical-align: top;\n",
       "    }\n",
       "\n",
       "    .dataframe thead th {\n",
       "        text-align: right;\n",
       "    }\n",
       "</style>\n",
       "<table border=\"1\" class=\"dataframe\">\n",
       "  <thead>\n",
       "    <tr style=\"text-align: right;\">\n",
       "      <th></th>\n",
       "      <th>Unnamed: 0</th>\n",
       "      <th>survived</th>\n",
       "      <th>sex</th>\n",
       "      <th>age</th>\n",
       "      <th>passengerClass</th>\n",
       "    </tr>\n",
       "  </thead>\n",
       "  <tbody>\n",
       "    <tr>\n",
       "      <th>1304</th>\n",
       "      <td>Zabour, Miss. Hileni</td>\n",
       "      <td>no</td>\n",
       "      <td>female</td>\n",
       "      <td>14.5</td>\n",
       "      <td>3rd</td>\n",
       "    </tr>\n",
       "    <tr>\n",
       "      <th>1305</th>\n",
       "      <td>Zabour, Miss. Thamine</td>\n",
       "      <td>no</td>\n",
       "      <td>female</td>\n",
       "      <td>NaN</td>\n",
       "      <td>3rd</td>\n",
       "    </tr>\n",
       "    <tr>\n",
       "      <th>1306</th>\n",
       "      <td>Zakarian, Mr. Mapriededer</td>\n",
       "      <td>no</td>\n",
       "      <td>male</td>\n",
       "      <td>26.5</td>\n",
       "      <td>3rd</td>\n",
       "    </tr>\n",
       "    <tr>\n",
       "      <th>1307</th>\n",
       "      <td>Zakarian, Mr. Ortin</td>\n",
       "      <td>no</td>\n",
       "      <td>male</td>\n",
       "      <td>27.0</td>\n",
       "      <td>3rd</td>\n",
       "    </tr>\n",
       "    <tr>\n",
       "      <th>1308</th>\n",
       "      <td>Zimmerman, Mr. Leo</td>\n",
       "      <td>no</td>\n",
       "      <td>male</td>\n",
       "      <td>29.0</td>\n",
       "      <td>3rd</td>\n",
       "    </tr>\n",
       "  </tbody>\n",
       "</table>\n",
       "</div>"
      ],
      "text/plain": [
       "                     Unnamed: 0 survived     sex   age passengerClass\n",
       "1304       Zabour, Miss. Hileni       no  female  14.5            3rd\n",
       "1305      Zabour, Miss. Thamine       no  female   NaN            3rd\n",
       "1306  Zakarian, Mr. Mapriededer       no    male  26.5            3rd\n",
       "1307        Zakarian, Mr. Ortin       no    male  27.0            3rd\n",
       "1308         Zimmerman, Mr. Leo       no    male  29.0            3rd"
      ]
     },
     "execution_count": 48,
     "metadata": {},
     "output_type": "execute_result"
    }
   ],
   "source": [
    "titanic.tail()"
   ]
  },
  {
   "cell_type": "code",
   "execution_count": 49,
   "id": "9958850c-aa58-40c8-8c03-214782704caf",
   "metadata": {},
   "outputs": [
    {
     "data": {
      "text/html": [
       "<div>\n",
       "<style scoped>\n",
       "    .dataframe tbody tr th:only-of-type {\n",
       "        vertical-align: middle;\n",
       "    }\n",
       "\n",
       "    .dataframe tbody tr th {\n",
       "        vertical-align: top;\n",
       "    }\n",
       "\n",
       "    .dataframe thead th {\n",
       "        text-align: right;\n",
       "    }\n",
       "</style>\n",
       "<table border=\"1\" class=\"dataframe\">\n",
       "  <thead>\n",
       "    <tr style=\"text-align: right;\">\n",
       "      <th></th>\n",
       "      <th>name</th>\n",
       "      <th>survived</th>\n",
       "      <th>sex</th>\n",
       "      <th>age</th>\n",
       "      <th>class</th>\n",
       "    </tr>\n",
       "  </thead>\n",
       "  <tbody>\n",
       "    <tr>\n",
       "      <th>0</th>\n",
       "      <td>Allen, Miss. Elisabeth Walton</td>\n",
       "      <td>yes</td>\n",
       "      <td>female</td>\n",
       "      <td>29.00</td>\n",
       "      <td>1st</td>\n",
       "    </tr>\n",
       "    <tr>\n",
       "      <th>1</th>\n",
       "      <td>Allison, Master. Hudson Trevor</td>\n",
       "      <td>yes</td>\n",
       "      <td>male</td>\n",
       "      <td>0.92</td>\n",
       "      <td>1st</td>\n",
       "    </tr>\n",
       "    <tr>\n",
       "      <th>2</th>\n",
       "      <td>Allison, Miss. Helen Loraine</td>\n",
       "      <td>no</td>\n",
       "      <td>female</td>\n",
       "      <td>2.00</td>\n",
       "      <td>1st</td>\n",
       "    </tr>\n",
       "    <tr>\n",
       "      <th>3</th>\n",
       "      <td>Allison, Mr. Hudson Joshua Crei</td>\n",
       "      <td>no</td>\n",
       "      <td>male</td>\n",
       "      <td>30.00</td>\n",
       "      <td>1st</td>\n",
       "    </tr>\n",
       "    <tr>\n",
       "      <th>4</th>\n",
       "      <td>Allison, Mrs. Hudson J C (Bessi</td>\n",
       "      <td>no</td>\n",
       "      <td>female</td>\n",
       "      <td>25.00</td>\n",
       "      <td>1st</td>\n",
       "    </tr>\n",
       "  </tbody>\n",
       "</table>\n",
       "</div>"
      ],
      "text/plain": [
       "                              name survived     sex    age class\n",
       "0    Allen, Miss. Elisabeth Walton      yes  female  29.00   1st\n",
       "1   Allison, Master. Hudson Trevor      yes    male   0.92   1st\n",
       "2     Allison, Miss. Helen Loraine       no  female   2.00   1st\n",
       "3  Allison, Mr. Hudson Joshua Crei       no    male  30.00   1st\n",
       "4  Allison, Mrs. Hudson J C (Bessi       no  female  25.00   1st"
      ]
     },
     "execution_count": 49,
     "metadata": {},
     "output_type": "execute_result"
    }
   ],
   "source": [
    "# Changing column names\n",
    "\n",
    "titanic.columns = ['name', 'survived', 'sex', 'age', 'class']\n",
    "\n",
    "titanic.head()"
   ]
  },
  {
   "cell_type": "code",
   "execution_count": 50,
   "id": "7bd12157-1b84-4f3c-b143-88d7abaa13b5",
   "metadata": {},
   "outputs": [
    {
     "data": {
      "text/html": [
       "<div>\n",
       "<style scoped>\n",
       "    .dataframe tbody tr th:only-of-type {\n",
       "        vertical-align: middle;\n",
       "    }\n",
       "\n",
       "    .dataframe tbody tr th {\n",
       "        vertical-align: top;\n",
       "    }\n",
       "\n",
       "    .dataframe thead th {\n",
       "        text-align: right;\n",
       "    }\n",
       "</style>\n",
       "<table border=\"1\" class=\"dataframe\">\n",
       "  <thead>\n",
       "    <tr style=\"text-align: right;\">\n",
       "      <th></th>\n",
       "      <th>age</th>\n",
       "    </tr>\n",
       "  </thead>\n",
       "  <tbody>\n",
       "    <tr>\n",
       "      <th>count</th>\n",
       "      <td>1046.00</td>\n",
       "    </tr>\n",
       "    <tr>\n",
       "      <th>mean</th>\n",
       "      <td>29.88</td>\n",
       "    </tr>\n",
       "    <tr>\n",
       "      <th>std</th>\n",
       "      <td>14.41</td>\n",
       "    </tr>\n",
       "    <tr>\n",
       "      <th>min</th>\n",
       "      <td>0.17</td>\n",
       "    </tr>\n",
       "    <tr>\n",
       "      <th>25%</th>\n",
       "      <td>21.00</td>\n",
       "    </tr>\n",
       "    <tr>\n",
       "      <th>50%</th>\n",
       "      <td>28.00</td>\n",
       "    </tr>\n",
       "    <tr>\n",
       "      <th>75%</th>\n",
       "      <td>39.00</td>\n",
       "    </tr>\n",
       "    <tr>\n",
       "      <th>max</th>\n",
       "      <td>80.00</td>\n",
       "    </tr>\n",
       "  </tbody>\n",
       "</table>\n",
       "</div>"
      ],
      "text/plain": [
       "           age\n",
       "count  1046.00\n",
       "mean     29.88\n",
       "std      14.41\n",
       "min       0.17\n",
       "25%      21.00\n",
       "50%      28.00\n",
       "75%      39.00\n",
       "max      80.00"
      ]
     },
     "execution_count": 50,
     "metadata": {},
     "output_type": "execute_result"
    }
   ],
   "source": [
    "# Descriptive statistics\n",
    "\n",
    "titanic.describe()"
   ]
  },
  {
   "cell_type": "code",
   "execution_count": 52,
   "id": "78087e5f-b9ab-40b2-abe0-0629ceffed1e",
   "metadata": {},
   "outputs": [
    {
     "data": {
      "text/plain": [
       "count      1309\n",
       "unique        2\n",
       "top       False\n",
       "freq        809\n",
       "Name: survived, dtype: object"
      ]
     },
     "execution_count": 52,
     "metadata": {},
     "output_type": "execute_result"
    }
   ],
   "source": [
    "# Compare the survived column to 'yes' to get a new Series containing True/False values,\n",
    "# then use describe to summarize the results:\n",
    "\n",
    "(titanic.survived == 'yes').describe()"
   ]
  },
  {
   "cell_type": "code",
   "execution_count": 55,
   "id": "72842edb-db7c-4be9-82c4-d14fc33ab9f8",
   "metadata": {},
   "outputs": [
    {
     "data": {
      "image/png": "[encoded data removed]",
      "text/plain": [
       "<Figure size 432x288 with 1 Axes>"
      ]
     },
     "metadata": {
      "needs_background": "light"
     },
     "output_type": "display_data"
    }
   ],
   "source": [
    "# Passenger age histogram\n",
    "\n",
    "%matplotlib inline\n",
    "\n",
    "histogram = titanic.hist()"
   ]
  },
  {
   "cell_type": "code",
   "execution_count": null,
   "id": "1b4c720a-3d3d-4633-b9de-7ccea67e11f4",
   "metadata": {},
   "outputs": [],
   "source": [
    "brendi kargel"
   ]
  }
 ],
 "metadata": {
  "kernelspec": {
   "display_name": "Python 3 (ipykernel)",
   "language": "python",
   "name": "python3"
  },
  "language_info": {
   "codemirror_mode": {
    "name": "ipython",
    "version": 3
   },
   "file_extension": ".py",
   "mimetype": "text/x-python",
   "name": "python",
   "nbconvert_exporter": "python",
   "pygments_lexer": "ipython3",
   "version": "3.9.12"
  }
 },
 "nbformat": 4,
 "nbformat_minor": 5
}
